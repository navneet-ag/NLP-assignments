{
 "cells": [
  {
   "cell_type": "markdown",
   "metadata": {},
   "source": [
    "## Few modules imported"
   ]
  },
  {
   "cell_type": "code",
   "execution_count": 8,
   "metadata": {},
   "outputs": [],
   "source": [
    "import codecs\n",
    "import string"
   ]
  },
  {
   "cell_type": "markdown",
   "metadata": {},
   "source": [
    "## Read the file"
   ]
  },
  {
   "cell_type": "code",
   "execution_count": 9,
   "metadata": {},
   "outputs": [],
   "source": [
    "#function to read a file\n",
    "def read_file(file):\n",
    "    fp = codecs.open(file, 'r', encoding = 'utf-8', errors = 'ignore')\n",
    "    text = fp.read()\n",
    "    return text"
   ]
  },
  {
   "cell_type": "markdown",
   "metadata": {},
   "source": [
    "## Tokenize the text"
   ]
  },
  {
   "cell_type": "code",
   "execution_count": 10,
   "metadata": {},
   "outputs": [],
   "source": [
    "#function to tokenize the text\n",
    "def word_tokenizer(file):\n",
    "    from nltk.tokenize import sent_tokenize, word_tokenize\n",
    "    sent_tokens = sent_tokenize(file)\n",
    "#     print(\"Sentence tokenization: \",sent_tokens)\n",
    "    \n",
    "    word_tokens = word_tokenize(file)\n",
    "#     print(\"Word tokenization: \", word_tokens)\n",
    "    return word_tokens"
   ]
  },
  {
   "cell_type": "markdown",
   "metadata": {},
   "source": [
    "## Normalization: Lower case"
   ]
  },
  {
   "cell_type": "code",
   "execution_count": 11,
   "metadata": {},
   "outputs": [],
   "source": [
    "#converting tokens to lower case\n",
    "def lower_case(tokens):\n",
    "    normal_tokens = [w.lower() for w in tokens]\n",
    "    return normal_tokens    "
   ]
  },
  {
   "cell_type": "markdown",
   "metadata": {},
   "source": [
    "## Removing punctuations"
   ]
  },
  {
   "cell_type": "code",
   "execution_count": 12,
   "metadata": {},
   "outputs": [],
   "source": [
    "#removing the punctuations from the list of tokens\n",
    "def remove_punctuations(tokens):\n",
    "    table = str.maketrans('','', string.punctuation)\n",
    "    ptokens = [w.translate(table) for w in tokens]\n",
    "    return ptokens"
   ]
  },
  {
   "cell_type": "markdown",
   "metadata": {},
   "source": [
    "## Removing blank tokens"
   ]
  },
  {
   "cell_type": "code",
   "execution_count": 13,
   "metadata": {},
   "outputs": [],
   "source": [
    "#removing blank tokens\n",
    "def remove_blank_tokens(tokens):\n",
    "    non_blank_tokens = [s for s in tokens if s]\n",
    "    return non_blank_tokens"
   ]
  },
  {
   "cell_type": "markdown",
   "metadata": {},
   "source": [
    "## Stopwords removal"
   ]
  },
  {
   "cell_type": "code",
   "execution_count": 14,
   "metadata": {},
   "outputs": [],
   "source": [
    "#removing stopwords from the list of words(tokens)\n",
    "def remove_stopwords(tokens):\n",
    "    from nltk.corpus import stopwords\n",
    "    stop_words = set(stopwords.words('english'))\n",
    "    words = [t for t in tokens if t not in stop_words]\n",
    "    return words "
   ]
  },
  {
   "cell_type": "markdown",
   "metadata": {},
   "source": [
    "## Lemmatization"
   ]
  },
  {
   "cell_type": "code",
   "execution_count": 15,
   "metadata": {},
   "outputs": [],
   "source": [
    "#lemmatizing the tokens\n",
    "def lemmatizer(tokens):\n",
    "    from nltk.stem import WordNetLemmatizer\n",
    "    lemmatizer = WordNetLemmatizer()\n",
    "    lemmatized_tokens = [lemmatizer.lemmatize(t) for t in tokens]\n",
    "    return lemmatized_tokens"
   ]
  },
  {
   "cell_type": "markdown",
   "metadata": {},
   "source": [
    "## Stemming"
   ]
  },
  {
   "cell_type": "code",
   "execution_count": 16,
   "metadata": {},
   "outputs": [],
   "source": [
    "#stemming the tokens\n",
    "def stemmer(tokens):\n",
    "    from nltk.stem import PorterStemmer\n",
    "    pr = PorterStemmer()\n",
    "    stemmed_tokens = [pr.stem(t) for t in tokens]\n",
    "    return stemmed_tokens"
   ]
  },
  {
   "cell_type": "markdown",
   "metadata": {},
   "source": [
    "## Preprocessing a file"
   ]
  },
  {
   "cell_type": "code",
   "execution_count": 17,
   "metadata": {},
   "outputs": [],
   "source": [
    "#function to preprocess the file contents\n",
    "def preprocess_file(file):\n",
    "    text = read_file(file)\n",
    "#     print(text)\n",
    "    \n",
    "    tokens = word_tokenizer(text)\n",
    "#     print(tokens)\n",
    "#     print(len(tokens))\n",
    "    lower_case_tokens = lower_case(tokens)\n",
    "#     print(lower_case_tokens)\n",
    "    \n",
    "    ptokens = remove_punctuations(lower_case_tokens)\n",
    "#     print(ptokens)\n",
    "    non_blank_tokens = remove_blank_tokens(ptokens)\n",
    "#     print(non_blank_tokens)\n",
    "    simple_tokens = remove_stopwords(non_blank_tokens)\n",
    "#     print(simple_tokens)\n",
    "#     lemmatized_tokens = lemmatizer(simple_tokens)\n",
    "#     print(lemmatized_tokens)\n",
    "    stemmed_tokens = stemmer(simple_tokens)\n",
    "#     print(stemmed_tokens)\n",
    "    final_tokens = stemmed_tokens\n",
    "#     return text, final_tokens\n",
    "    "
   ]
  },
  {
   "cell_type": "code",
   "execution_count": 18,
   "metadata": {},
   "outputs": [
    {
     "name": "stdout",
     "output_type": "stream",
     "text": [
      "FITNESS magazines and Web sites love to ask readers about their\n",
      "favorite workout music while presenting their playlists or suggestions\n",
      "from celebrities. Self.com features the \" '80s cardio playlist,\" which\n",
      "includes the short-shorts video classic \"Wake Me Up Before You Go-Go\"\n",
      "by Wham! On Fitnessmagazine.com, the singer Rihanna reveals her\n",
      "favorite workout songs - immodestly recommending four of her own for\n",
      "\"when you have to pick up the pace on the treadmill.\"\n",
      "\n",
      "The playlist fixation has a scientific basis: Studies have shown that\n",
      "listening to music during exercise can improve results, both in terms\n",
      "of being a motivator (people exercise longer and more vigorously to\n",
      "music) and as a distraction from negatives like fatigue. But are\n",
      "certain songs more effective than others?\n",
      "\n",
      "Generally speaking there is a science to choosing an effective\n",
      "exercise soundtrack, said Dr. Costas Karageorghis, an associate\n",
      "professor of sport psychology at Brunel University in England, who has\n",
      "studied the effects of music on physical performance for 20\n",
      "years. Dr. Karageorghis created the Brunel Music Rating Inventory, a\n",
      "questionnaire that is used to rate the motivational qualities of music\n",
      "in the context of sport and exercise. For nearly a decade, he has been\n",
      "administering the questionnaire to panels representing different\n",
      "demographics, who listen to 90 seconds of a song and rate its\n",
      "motivational qualities for various physical activities.\n",
      "\n",
      "One of the most important elements, Dr. Karageorghis found, is a\n",
      "song's tempo, which should be between 120 and 140 beats-per-minute, or\n",
      "B.P.M.  That pace coincides with the range of most commercial dance\n",
      "music, and many rock songs are near that range, which leads people to\n",
      "develop \"an aesthetic appreciation for that tempo,\" he said. It also\n",
      "roughly corresponds to the average person's heart rate during a\n",
      "routine workout - say, 20 minutes on an elliptical trainer by a person\n",
      "who is more casual exerciser than fitness warrior.\n",
      "\n",
      "Dr. Karageorghis said \"Push It\" by Salt-N-Pepa and \"Drop It Like It's\n",
      "Hot\" by Snoop Dogg are around that range, as is the dance remix of\n",
      "\"Umbrella\" by Rihanna (so maybe the pop star was onto something). For\n",
      "a high-intensity workout like a hard run, he suggested Glenn Frey's\n",
      "\"The Heat Is On.\"\n",
      "\n",
      "Music preferences are as idiosyncratic as workout routines, of course.\n",
      "Allison Goldberg, a 39-year-old life coach and amateur runner who\n",
      "lives in Texas and who is training for the Houston Marathon on Sunday,\n",
      "has been running to the Green Day CD \"American Idiot\" because, she\n",
      "said, \"There's no way you can run slow to Green Day.\" (Though she may\n",
      "not be listening on race day; a rule bars runners from using portable\n",
      "music players and headphones.) Haile Gebrselassie, the Olympian from\n",
      "Ethiopia who has won the gold medal at 10,000 meters, often requested\n",
      "that the techno song \"Scatman,\" which has a B.P.M. of around 135, be\n",
      "played over the sound system during his races.\n",
      "\n",
      "Ms. Goldberg also includes on her playlist \"Don't Phunk With My Heart\"\n",
      "by the Black Eyed Peas (130 B.P.M.), \"Mr. Brightside\" by the Killers\n",
      "(150 B.P.M.), and \"Dancing Queen\" by Abba. The musical style that\n",
      "seems to most reliably contain a high B.P.M. is dance music, said\n",
      "Richard Petty, the founder of Power Music, a company that has produced\n",
      "workout compilations for instructors and fitness enthusiasts for two\n",
      "decades. \"A rock song doesn't have that same consistency,\" said\n",
      "Mr. Petty, a former D.J. who takes a metronomic approach to making\n",
      "exercise music: He chooses a hit song with a catchy melody - say,\n",
      "\"Gold Digger\" by Kanye West - and produces a remix whose B.P.M. count\n",
      "is tailored to experience level and type of workout.\n",
      "\n",
      "For a stroll walker going at a pace of around 3 miles an hour, a\n",
      "remixed track has a count of 115 to 118 B.P.M.; for a power walker\n",
      "going 4.5 m.p.h., the count is 137 to 139 B.P.M., while the B.P.M. for\n",
      "a runner elevates to 147 to 160.\n",
      "\n",
      "\n"
     ]
    }
   ],
   "source": [
    "f = 'Development_Set.txt'\n",
    "preprocess_file(f)\n",
    "# final_tokens"
   ]
  },
  {
   "cell_type": "markdown",
   "metadata": {},
   "source": [
    "## Regex"
   ]
  },
  {
   "cell_type": "code",
   "execution_count": 19,
   "metadata": {},
   "outputs": [],
   "source": [
    "import re"
   ]
  },
  {
   "cell_type": "code",
   "execution_count": 20,
   "metadata": {},
   "outputs": [
    {
     "ename": "NameError",
     "evalue": "name 'text' is not defined",
     "output_type": "error",
     "traceback": [
      "\u001b[0;31m---------------------------------------------------------------------------\u001b[0m",
      "\u001b[0;31mNameError\u001b[0m                                 Traceback (most recent call last)",
      "\u001b[0;32m<ipython-input-20-8ba86b93a61c>\u001b[0m in \u001b[0;36m<module>\u001b[0;34m\u001b[0m\n\u001b[0;32m----> 1\u001b[0;31m \u001b[0mprint\u001b[0m\u001b[0;34m(\u001b[0m\u001b[0mre\u001b[0m\u001b[0;34m.\u001b[0m\u001b[0mfindall\u001b[0m\u001b[0;34m(\u001b[0m\u001b[0;34m'\\w+\\S\\.\\w+'\u001b[0m\u001b[0;34m,\u001b[0m \u001b[0mtext\u001b[0m\u001b[0;34m)\u001b[0m\u001b[0;34m)\u001b[0m\u001b[0;34m\u001b[0m\u001b[0;34m\u001b[0m\u001b[0m\n\u001b[0m",
      "\u001b[0;31mNameError\u001b[0m: name 'text' is not defined"
     ]
    }
   ],
   "source": [
    "print(re.findall('\\w+\\S\\.\\w+', text))"
   ]
  },
  {
   "cell_type": "code",
   "execution_count": null,
   "metadata": {},
   "outputs": [],
   "source": []
  }
 ],
 "metadata": {
  "kernelspec": {
   "display_name": "Python 3",
   "language": "python",
   "name": "python3"
  },
  "language_info": {
   "codemirror_mode": {
    "name": "ipython",
    "version": 3
   },
   "file_extension": ".py",
   "mimetype": "text/x-python",
   "name": "python",
   "nbconvert_exporter": "python",
   "pygments_lexer": "ipython3",
   "version": "3.6.9"
  }
 },
 "nbformat": 4,
 "nbformat_minor": 4
}
