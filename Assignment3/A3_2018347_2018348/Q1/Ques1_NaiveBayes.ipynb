{
 "cells": [
  {
   "cell_type": "code",
   "execution_count": 1,
   "metadata": {},
   "outputs": [],
   "source": [
    "import pandas as pd\n",
    "import nltk\n",
    "import string\n",
    "import re\n",
    "import numpy as np\n",
    "from tqdm import tqdm\n",
    "from nltk.stem import WordNetLemmatizer \n",
    "from sklearn.feature_extraction.text import CountVectorizer\n",
    "from math import log\n",
    "from sklearn.metrics import *\n",
    "from nltk.corpus import stopwords"
   ]
  },
  {
   "cell_type": "markdown",
   "metadata": {},
   "source": [
    "# Getting the train set and preprocessing it"
   ]
  },
  {
   "cell_type": "code",
   "execution_count": 2,
   "metadata": {},
   "outputs": [],
   "source": [
    "# Lambda is a small function \n",
    "data_train = pd.read_csv('../input/task1a3/sentiment_train.csv')\n",
    "data_test = pd.read_csv('../input/task1a3/sentiment_test.csv')\n",
    "# Change this line to moderate the train size\n",
    "tweets_train=data_train['5'][0:50000]\n",
    "# Lower Case\n",
    "tweets_train=tweets_train.apply(lambda s:s.lower())"
   ]
  },
  {
   "cell_type": "code",
   "execution_count": 3,
   "metadata": {},
   "outputs": [
    {
     "name": "stderr",
     "output_type": "stream",
     "text": [
      "100%|██████████| 50000/50000 [00:02<00:00, 21713.27it/s]\n"
     ]
    },
    {
     "data": {
      "text/plain": [
       "0                            [another, fire,, yayy., ]\n",
       "1     [@someusername, , , be, careful, lil, lo, b, , ]\n",
       "2    [@someusername, oh, yes, it, was, good., i, ho...\n",
       "3    [dont, get, too, close, or, you, will, get, hu...\n",
       "4              [@someusername, any, big, e3, plans?, ]\n",
       "Name: 5, dtype: object"
      ]
     },
     "execution_count": 3,
     "metadata": {},
     "output_type": "execute_result"
    }
   ],
   "source": [
    "# splitting by space to split the tweets and nomalize username\n",
    "for i in tqdm(range(len(tweets_train))):\n",
    "    temp=tweets_train[i].split(\" \")\n",
    "    for j in range(len(temp)):\n",
    "        if(re.match(\"^@[a-z_0-9]+$\",temp[j])):\n",
    "            temp[j]=\"@someusername\"\n",
    "    tweets_train[i]=temp\n",
    "tweets_train.head()"
   ]
  },
  {
   "cell_type": "code",
   "execution_count": 4,
   "metadata": {},
   "outputs": [
    {
     "name": "stderr",
     "output_type": "stream",
     "text": [
      "100%|██████████| 50000/50000 [00:03<00:00, 14948.71it/s]\n"
     ]
    }
   ],
   "source": [
    "# Nomalize urls in the splitted tweets\n",
    "for i in tqdm(range(len(tweets_train))):\n",
    "    temp=tweets_train[i]\n",
    "    for j in range(len(temp)):\n",
    "        if(re.match(\"^http://\",temp[j]) or re.match(\"^https://\",temp[j])):\n",
    "            temp[j]=\"http://someurl\"\n",
    "    tweets_train[i]=temp"
   ]
  },
  {
   "cell_type": "code",
   "execution_count": 5,
   "metadata": {},
   "outputs": [
    {
     "name": "stderr",
     "output_type": "stream",
     "text": [
      "100%|██████████| 50000/50000 [00:01<00:00, 45019.84it/s]\n"
     ]
    }
   ],
   "source": [
    "# Combining the tweets together\n",
    "for i in tqdm(range(len(tweets_train))):\n",
    "    sent=\"\"\n",
    "    for word in tweets_train[i]:\n",
    "        sent+=word+\" \"\n",
    "    tweets_train[i]=sent"
   ]
  },
  {
   "cell_type": "markdown",
   "metadata": {},
   "source": [
    "# Getting the test set and preprocessing it"
   ]
  },
  {
   "cell_type": "code",
   "execution_count": 7,
   "metadata": {},
   "outputs": [
    {
     "name": "stderr",
     "output_type": "stream",
     "text": [
      "100%|██████████| 480000/480000 [00:24<00:00, 19735.26it/s]\n"
     ]
    }
   ],
   "source": [
    "tweets_test=(data_test['5'])\n",
    "tweets_test=tweets_test.apply(lambda s:s.lower())\n"
   ]
  },
  {
   "cell_type": "code",
   "execution_count": null,
   "metadata": {},
   "outputs": [],
   "source": [
    "# splitting by space to split the tweets and nomalize username\n",
    "for i in tqdm(range(len(tweets_test))):\n",
    "    temp=tweets_test[i].split(\" \")\n",
    "    for j in range(len(temp)):\n",
    "        if(re.match(\"^@[a-z_0-9]+$\",temp[j])):\n",
    "            temp[j]=\"@someusername\"\n",
    "    tweets_test[i]=temp"
   ]
  },
  {
   "cell_type": "code",
   "execution_count": 8,
   "metadata": {},
   "outputs": [
    {
     "name": "stderr",
     "output_type": "stream",
     "text": [
      "100%|██████████| 480000/480000 [00:33<00:00, 14152.75it/s]\n"
     ]
    }
   ],
   "source": [
    "# splitting by space to split the tweets and nomalize username\n",
    "for i in tqdm(range(len(tweets_test))):\n",
    "    temp=tweets_test[i]\n",
    "    for j in range(len(temp)):\n",
    "        if(re.match(\"^http://\",temp[j]) or re.match(\"^https://\",temp[j])):\n",
    "            temp[j]=\"http://someurl\"\n",
    "    tweets_test[i]=temp"
   ]
  },
  {
   "cell_type": "code",
   "execution_count": 9,
   "metadata": {},
   "outputs": [
    {
     "name": "stderr",
     "output_type": "stream",
     "text": [
      "100%|██████████| 480000/480000 [00:10<00:00, 44653.04it/s]\n"
     ]
    }
   ],
   "source": [
    "# Combining the tweets together\n",
    "for i in tqdm(range(len(tweets_test))):\n",
    "    sent=\"\"\n",
    "    for word in tweets_test[i]:\n",
    "        sent+=word+\" \"\n",
    "    tweets_test[i]=sent"
   ]
  },
  {
   "cell_type": "markdown",
   "metadata": {},
   "source": [
    "## Constructing the stop Words List"
   ]
  },
  {
   "cell_type": "code",
   "execution_count": 11,
   "metadata": {},
   "outputs": [],
   "source": [
    "lemmatizer = WordNetLemmatizer()   \n",
    "OriginalStopWords=stopwords.words('english')\n",
    "StopWordSet=set()\n",
    "# Lemmatizing th Stopwords\n",
    "for i in OriginalStopWords:\n",
    "    StopWordSet.add(lemmatizer.lemmatize(i))"
   ]
  },
  {
   "cell_type": "markdown",
   "metadata": {},
   "source": [
    "## Constructing the unigrams vocab from train set and test set"
   ]
  },
  {
   "cell_type": "code",
   "execution_count": 13,
   "metadata": {},
   "outputs": [
    {
     "name": "stderr",
     "output_type": "stream",
     "text": [
      "100%|██████████| 50000/50000 [00:06<00:00, 7864.43it/s]\n"
     ]
    }
   ],
   "source": [
    "\n",
    "Vocab={}\n",
    "tokenizer = nltk.RegexpTokenizer(r\"\\w+\")\n",
    "for i in tqdm(range(len(tweets_train))):\n",
    "#     lower case and remove punctuation\n",
    "    tweet=tokenizer.tokenize(tweets_train[i].lower())\n",
    "    for word in tweet:\n",
    "        OriginWord=lemmatizer.lemmatize(word)\n",
    "        if(OriginWord not in StopWordSet):\n",
    "            if(OriginWord in Vocab):\n",
    "                Vocab[OriginWord]+=1\n",
    "            else:\n",
    "                Vocab[OriginWord]=1"
   ]
  },
  {
   "cell_type": "code",
   "execution_count": 15,
   "metadata": {},
   "outputs": [
    {
     "name": "stderr",
     "output_type": "stream",
     "text": [
      "100%|██████████| 480000/480000 [01:01<00:00, 7784.16it/s]\n"
     ]
    }
   ],
   "source": [
    "for i in tqdm(range(len(tweets_test))):\n",
    "#     lower case and remove punctuation\n",
    "    tweet=tokenizer.tokenize(tweets_test[i].lower())\n",
    "    for word in tweet:\n",
    "        OriginWord=lemmatizer.lemmatize(word)\n",
    "        if(OriginWord not in StopWordSet):\n",
    "            if(OriginWord in Vocab):\n",
    "                Vocab[OriginWord]+=1\n",
    "            else:\n",
    "                Vocab[OriginWord]=1"
   ]
  },
  {
   "cell_type": "markdown",
   "metadata": {},
   "source": [
    "### Removing the words from the tweet which are in stop words set and have frequency count less than 10"
   ]
  },
  {
   "cell_type": "code",
   "execution_count": 19,
   "metadata": {},
   "outputs": [
    {
     "name": "stderr",
     "output_type": "stream",
     "text": [
      "100%|██████████| 50000/50000 [00:06<00:00, 7162.19it/s]\n"
     ]
    }
   ],
   "source": [
    "for i in tqdm(range(len(tweets_train))):\n",
    "    tweet=tokenizer.tokenize(tweets_train[i])\n",
    "    ModifiedTweet=\"\"\n",
    "    for word in tweet:\n",
    "        OriginWord=lemmatizer.lemmatize(word)\n",
    "        if(OriginWord not in StopWordSet and Vocab[OriginWord]>10):\n",
    "            ModifiedTweet+=OriginWord+\" \"\n",
    "    tweets_train[i]=ModifiedTweet"
   ]
  },
  {
   "cell_type": "code",
   "execution_count": 21,
   "metadata": {},
   "outputs": [
    {
     "name": "stderr",
     "output_type": "stream",
     "text": [
      "100%|██████████| 480000/480000 [01:08<00:00, 6981.30it/s]\n"
     ]
    }
   ],
   "source": [
    "for i in tqdm(range(len(tweets_test))):\n",
    "    tweet=tokenizer.tokenize(tweets_test[i])\n",
    "    ModifiedTweet=\"\"\n",
    "    for word in tweet:\n",
    "        OriginWord=lemmatizer.lemmatize(word)\n",
    "        if(OriginWord not in StopWordSet and Vocab[OriginWord]>10):\n",
    "            ModifiedTweet+=OriginWord+\" \"\n",
    "    tweets_test[i]=ModifiedTweet"
   ]
  },
  {
   "cell_type": "code",
   "execution_count": null,
   "metadata": {},
   "outputs": [],
   "source": [
    "ReducedVocab=set()\n",
    "for i in Vocab:\n",
    "    if(Vocab[i]>10):\n",
    "        ReducedVocab.add(i)"
   ]
  },
  {
   "cell_type": "code",
   "execution_count": 26,
   "metadata": {},
   "outputs": [],
   "source": [
    "vectorizer = CountVectorizer(ngram_range=(1,1),vocabulary=ReducedVocab)\n",
    "lis=vectorizer.get_feature_names()\n",
    "ReplaceNameDict={}\n",
    "for i in range(len(lis)):\n",
    "    ReplaceNameDict[i]=lis[i]"
   ]
  },
  {
   "cell_type": "markdown",
   "metadata": {},
   "source": [
    "### From the reduced Vocab construct unigram features for test and train set and saving them"
   ]
  },
  {
   "cell_type": "code",
   "execution_count": 27,
   "metadata": {},
   "outputs": [],
   "source": [
    "X = vectorizer.fit_transform(tweets_train)\n",
    "a=X.toarray()\n",
    "train_frame=pd.DataFrame(data=a)\n",
    "train_frame.rename(columns=ReplaceNameDict,inplace=True)\n",
    "train_frame[\"Label\"]=data_train['0'][0:50000]\n",
    "train_frame.to_csv(\"train10000.csv\",index=False)"
   ]
  },
  {
   "cell_type": "code",
   "execution_count": 28,
   "metadata": {},
   "outputs": [],
   "source": [
    "X = vectorizer.fit_transform(tweets_test)\n",
    "a=X.toarray()\n",
    "test_frame=pd.DataFrame(data=a)\n",
    "test_frame.rename(columns=ReplaceNameDict,inplace=True)\n",
    "test_frame[\"Label\"]=data_test['0']\n",
    "test_frame.to_csv(\"test50000.csv\",index=False)"
   ]
  },
  {
   "cell_type": "code",
   "execution_count": 29,
   "metadata": {},
   "outputs": [],
   "source": [
    "train_frame.to_csv(\"train50000_100limit.csv\",index=False)\n",
    "test_frame.to_csv(\"test_full.csv\",index=False)"
   ]
  },
  {
   "cell_type": "code",
   "execution_count": 30,
   "metadata": {},
   "outputs": [
    {
     "data": {
      "text/plain": [
       "4    25096\n",
       "0    24904\n",
       "Name: Label, dtype: int64"
      ]
     },
     "execution_count": 30,
     "metadata": {},
     "output_type": "execute_result"
    }
   ],
   "source": [
    "train_frame[\"Label\"].value_counts()"
   ]
  },
  {
   "cell_type": "code",
   "execution_count": 31,
   "metadata": {},
   "outputs": [
    {
     "data": {
      "text/plain": [
       "4    240796\n",
       "0    239204\n",
       "Name: Label, dtype: int64"
      ]
     },
     "execution_count": 31,
     "metadata": {},
     "output_type": "execute_result"
    }
   ],
   "source": [
    "test_frame[\"Label\"].value_counts(0)"
   ]
  },
  {
   "cell_type": "markdown",
   "metadata": {},
   "source": [
    "# Training the Naive Bayes"
   ]
  },
  {
   "cell_type": "code",
   "execution_count": 32,
   "metadata": {},
   "outputs": [],
   "source": [
    "CountPositive=0\n",
    "CountNegative=0\n",
    "for i in train_frame[\"Label\"]:\n",
    "    if(i==0):\n",
    "        CountNegative+=1\n",
    "    else:\n",
    "        CountPositive+=1\n",
    "# print(CountPositive)\n",
    "# print(CountNegative)"
   ]
  },
  {
   "cell_type": "code",
   "execution_count": 33,
   "metadata": {},
   "outputs": [],
   "source": [
    "ProbabPositive=CountPositive/train_frame[\"Label\"].count()\n",
    "ProbabNegative=CountNegative/train_frame[\"Label\"].count()\n",
    "# print(ProbabPositive,ProbabNegative)"
   ]
  },
  {
   "cell_type": "code",
   "execution_count": 34,
   "metadata": {},
   "outputs": [],
   "source": [
    "PositiveDictionary={}\n",
    "NegativeDictionary={}\n",
    "for i in ReducedVocab:\n",
    "    PositiveDictionary[i]=0\n",
    "    NegativeDictionary[i]=0\n",
    "# print(PositiveDictionary,NegativeDictionary)"
   ]
  },
  {
   "cell_type": "code",
   "execution_count": 35,
   "metadata": {},
   "outputs": [
    {
     "name": "stderr",
     "output_type": "stream",
     "text": [
      "100%|██████████| 50000/50000 [41:02<00:00, 20.31it/s]\n"
     ]
    }
   ],
   "source": [
    "for i in tqdm(range(len(train_frame))):\n",
    "    if(train_frame[\"Label\"][i]==0):\n",
    "        for word in NegativeDictionary:\n",
    "            NegativeDictionary[word]+=train_frame[word][i]\n",
    "    else:\n",
    "        for word in PositiveDictionary:\n",
    "            PositiveDictionary[word]+=train_frame[word][i]\n",
    "# print(PositiveDictionary,NegativeDictionary)"
   ]
  },
  {
   "cell_type": "code",
   "execution_count": 36,
   "metadata": {},
   "outputs": [],
   "source": [
    "CountPositiveWords=0\n",
    "CountNegativeWords=0\n",
    "for i in PositiveDictionary:\n",
    "    CountPositiveWords+=PositiveDictionary[i]\n",
    "for i in NegativeDictionary:\n",
    "    CountNegativeWords+=NegativeDictionary[i]\n",
    "# print(CountNegativeWords,CountPositiveWords)"
   ]
  },
  {
   "cell_type": "code",
   "execution_count": 37,
   "metadata": {},
   "outputs": [],
   "source": [
    "for i in ReducedVocab:\n",
    "    PositiveDictionary[i]+=1\n",
    "    PositiveDictionary[i]/=(CountPositiveWords+len(ReducedVocab))\n",
    "    NegativeDictionary[i]+=1\n",
    "    NegativeDictionary[i]/=(CountNegativeWords+len(ReducedVocab))"
   ]
  },
  {
   "cell_type": "code",
   "execution_count": 40,
   "metadata": {},
   "outputs": [],
   "source": [
    "import pickle\n",
    "file1=open(\"PositiveDictionary\",'wb')\n",
    "file2=open(\"NegativeDictionary\",'wb')\n",
    "file3=open(\"ProbabPositive\",'wb')\n",
    "file4=open(\"ProbabNegative\",'wb')\n",
    "\n",
    "pickle.dump(PositiveDictionary,file1)\n",
    "pickle.dump(NegativeDictionary,file2)\n",
    "pickle.dump(ProbabPositive,file3)\n",
    "pickle.dump(ProbabNegative,file4)\n",
    "file1.close()\n",
    "file2.close()\n",
    "file3.close()\n",
    "file4.close()"
   ]
  },
  {
   "cell_type": "markdown",
   "metadata": {},
   "source": [
    "# Testing the Naive Bayes"
   ]
  },
  {
   "cell_type": "code",
   "execution_count": 41,
   "metadata": {},
   "outputs": [
    {
     "name": "stderr",
     "output_type": "stream",
     "text": [
      "100%|██████████| 480000/480000 [6:27:57<00:00, 20.62it/s]  \n"
     ]
    }
   ],
   "source": [
    "ypred=np.zeros(len(test_frame))\n",
    "for i in tqdm(range(len(test_frame))):\n",
    "    TempProbabPositive=log(ProbabPositive)\n",
    "    TempProbabNegative=log(ProbabNegative)\n",
    "    for j in ReducedVocab:\n",
    "        if(test_frame[j][i]>0):\n",
    "            TempProbabNegative+=test_frame[j][i]*log(NegativeDictionary[j])\n",
    "            TempProbabPositive+=test_frame[j][i]*log(PositiveDictionary[j])\n",
    "    if(TempProbabNegative>TempProbabPositive):\n",
    "        ypred[i]=0\n",
    "    else:\n",
    "        ypred[i]=4"
   ]
  },
  {
   "cell_type": "code",
   "execution_count": 42,
   "metadata": {},
   "outputs": [],
   "source": [
    "ytemp=ypred\n",
    "import pickle\n",
    "file=open(\"ypred\",'wb')\n",
    "pickle.dump(ypred,file)\n",
    "file.close()"
   ]
  }
 ],
 "metadata": {
  "kernelspec": {
   "display_name": "Python 3",
   "language": "python",
   "name": "python3"
  },
  "language_info": {
   "codemirror_mode": {
    "name": "ipython",
    "version": 3
   },
   "file_extension": ".py",
   "mimetype": "text/x-python",
   "name": "python",
   "nbconvert_exporter": "python",
   "pygments_lexer": "ipython3",
   "version": "3.8.5"
  }
 },
 "nbformat": 4,
 "nbformat_minor": 4
}
